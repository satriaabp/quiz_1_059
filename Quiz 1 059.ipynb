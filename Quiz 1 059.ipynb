{
  "nbformat": 4,
  "nbformat_minor": 0,
  "metadata": {
    "colab": {
      "provenance": []
    },
    "kernelspec": {
      "name": "python3",
      "display_name": "Python 3"
    },
    "language_info": {
      "name": "python"
    }
  },
  "cells": [
    {
      "cell_type": "code",
      "execution_count": null,
      "metadata": {
        "colab": {
          "base_uri": "https://localhost:8080/"
        },
        "id": "ACrUwrEW1nqP",
        "outputId": "722f4f20-e268-4cee-95ef-726dda09db08"
      },
      "outputs": [
        {
          "output_type": "stream",
          "name": "stdout",
          "text": [
            "Elemen terbesar: 100\n",
            "Elemen terkecil: 12\n",
            "Transpose Matrix:\n",
            "[34, 72, 61]\n",
            "[100, 24, 20]\n",
            "[12, 55, 19]\n",
            "Hasil perkalian A dengan transpose dari A:\n",
            "[11300, 5508, 4302]\n",
            "[5508, 8785, 5917]\n",
            "[4302, 5917, 4482]\n",
            "Hasil penjumlahan A dengan transpose dari A:\n",
            "[68, 172, 73]\n",
            "[172, 48, 75]\n",
            "[73, 75, 38]\n"
          ]
        }
      ],
      "source": [
        "class MatrixOperations:\n",
        "    def __init__(self, matrix):\n",
        "        self.matrix = matrix\n",
        "\n",
        "    # Fungsi untuk mencari elemen terbesar dan terkecil dalam matriks\n",
        "    def find_max_min(self):\n",
        "        flattened = [item for sublist in self.matrix for item in sublist]\n",
        "        max_val = max(flattened)\n",
        "        min_val = min(flattened)\n",
        "        return max_val, min_val\n",
        "\n",
        "    # Fungsi untuk mentranspose matriks\n",
        "    def transpose_matrix(self):\n",
        "        transposed = [[self.matrix[j][i] for j in range(len(self.matrix))] for i in range(len(self.matrix[0]))]\n",
        "        return transposed\n",
        "\n",
        "    # Fungsi untuk perkalian matriks\n",
        "    def matrix_multiplication(self, other_matrix):\n",
        "        if len(self.matrix[0]) != len(other_matrix):\n",
        "            return \"Error: Number of columns in the first matrix should be equal to the number of rows in the second matrix.\"\n",
        "\n",
        "        result = [[0 for _ in range(len(other_matrix[0]))] for _ in range(len(self.matrix))]\n",
        "\n",
        "        for i in range(len(self.matrix)):\n",
        "            for j in range(len(other_matrix[0])):\n",
        "                for k in range(len(other_matrix)):\n",
        "                    result[i][j] += self.matrix[i][k] * other_matrix[k][j]\n",
        "\n",
        "        return result\n",
        "\n",
        "    # Fungsi untuk penjumlahan matriks\n",
        "    def matrix_addition(self, other_matrix):\n",
        "        if len(self.matrix) != len(other_matrix) or len(self.matrix[0]) != len(other_matrix[0]):\n",
        "            return \"Error: Matrices should have the same dimensions for addition.\"\n",
        "\n",
        "        result = [[self.matrix[i][j] + other_matrix[i][j] for j in range(len(self.matrix[0]))] for i in range(len(self.matrix))]\n",
        "        return result\n",
        "\n",
        "if __name__ == \"__main__\":\n",
        "    A = [\n",
        "        [34, 100, 12],\n",
        "        [72, 24, 55],\n",
        "        [61, 20, 19]\n",
        "    ]\n",
        "\n",
        "    matrix_ops = MatrixOperations(A)\n",
        "\n",
        "    # Menghitung elemen terbesar dan terkecil dalam matriks A\n",
        "    max_val, min_val = matrix_ops.find_max_min()\n",
        "    print(f\"Elemen terbesar: {max_val}\")\n",
        "    print(f\"Elemen terkecil: {min_val}\")\n",
        "\n",
        "    # Transpose matriks A\n",
        "    transposed_matrix = matrix_ops.transpose_matrix()\n",
        "    print(\"Transpose Matrix:\")\n",
        "    for row in transposed_matrix:\n",
        "        print(row)\n",
        "\n",
        "    # Melakukan perkalian matriks A dengan transpose dari A\n",
        "    multiplication_result = matrix_ops.matrix_multiplication(transposed_matrix)\n",
        "    print(\"Hasil perkalian A dengan transpose dari A:\")\n",
        "    for row in multiplication_result:\n",
        "        print(row)\n",
        "\n",
        "    # Melakukan penjumlahan matriks A dengan transpose dari A\n",
        "    addition_result = matrix_ops.matrix_addition(transposed_matrix)\n",
        "    print(\"Hasil penjumlahan A dengan transpose dari A:\")\n",
        "    for row in addition_result:\n",
        "        print(row)\n"
      ]
    }
  ]
}